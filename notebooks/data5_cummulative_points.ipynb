{
 "cells": [
  {
   "cell_type": "code",
   "execution_count": 16,
   "metadata": {},
   "outputs": [],
   "source": [
    "import pandas as pd\n",
    "import numpy as np\n",
    "import json\n",
    "\n",
    "import warnings\n",
    "warnings.filterwarnings('ignore')"
   ]
  },
  {
   "cell_type": "code",
   "execution_count": 17,
   "metadata": {},
   "outputs": [],
   "source": [
    "df = pd.read_csv(\"../data/results.csv\")"
   ]
  },
  {
   "cell_type": "code",
   "execution_count": 18,
   "metadata": {},
   "outputs": [
    {
     "data": {
      "text/html": [
       "<div>\n",
       "<style scoped>\n",
       "    .dataframe tbody tr th:only-of-type {\n",
       "        vertical-align: middle;\n",
       "    }\n",
       "\n",
       "    .dataframe tbody tr th {\n",
       "        vertical-align: top;\n",
       "    }\n",
       "\n",
       "    .dataframe thead th {\n",
       "        text-align: right;\n",
       "    }\n",
       "</style>\n",
       "<table border=\"1\" class=\"dataframe\">\n",
       "  <thead>\n",
       "    <tr style=\"text-align: right;\">\n",
       "      <th></th>\n",
       "      <th>home_team</th>\n",
       "      <th>away_team</th>\n",
       "      <th>home_goals</th>\n",
       "      <th>away_goals</th>\n",
       "      <th>result</th>\n",
       "      <th>season</th>\n",
       "    </tr>\n",
       "  </thead>\n",
       "  <tbody>\n",
       "    <tr>\n",
       "      <th>0</th>\n",
       "      <td>Sheffield United</td>\n",
       "      <td>Liverpool</td>\n",
       "      <td>1</td>\n",
       "      <td>1</td>\n",
       "      <td>D</td>\n",
       "      <td>2006-2007</td>\n",
       "    </tr>\n",
       "    <tr>\n",
       "      <th>1</th>\n",
       "      <td>Arsenal</td>\n",
       "      <td>Aston Villa</td>\n",
       "      <td>1</td>\n",
       "      <td>1</td>\n",
       "      <td>D</td>\n",
       "      <td>2006-2007</td>\n",
       "    </tr>\n",
       "    <tr>\n",
       "      <th>2</th>\n",
       "      <td>Everton</td>\n",
       "      <td>Watford</td>\n",
       "      <td>2</td>\n",
       "      <td>1</td>\n",
       "      <td>H</td>\n",
       "      <td>2006-2007</td>\n",
       "    </tr>\n",
       "    <tr>\n",
       "      <th>3</th>\n",
       "      <td>Newcastle United</td>\n",
       "      <td>Wigan Athletic</td>\n",
       "      <td>2</td>\n",
       "      <td>1</td>\n",
       "      <td>H</td>\n",
       "      <td>2006-2007</td>\n",
       "    </tr>\n",
       "    <tr>\n",
       "      <th>4</th>\n",
       "      <td>Portsmouth</td>\n",
       "      <td>Blackburn Rovers</td>\n",
       "      <td>3</td>\n",
       "      <td>0</td>\n",
       "      <td>H</td>\n",
       "      <td>2006-2007</td>\n",
       "    </tr>\n",
       "  </tbody>\n",
       "</table>\n",
       "</div>"
      ],
      "text/plain": [
       "          home_team         away_team  home_goals  away_goals result  \\\n",
       "0  Sheffield United         Liverpool           1           1      D   \n",
       "1           Arsenal       Aston Villa           1           1      D   \n",
       "2           Everton           Watford           2           1      H   \n",
       "3  Newcastle United    Wigan Athletic           2           1      H   \n",
       "4        Portsmouth  Blackburn Rovers           3           0      H   \n",
       "\n",
       "      season  \n",
       "0  2006-2007  \n",
       "1  2006-2007  \n",
       "2  2006-2007  \n",
       "3  2006-2007  \n",
       "4  2006-2007  "
      ]
     },
     "execution_count": 18,
     "metadata": {},
     "output_type": "execute_result"
    }
   ],
   "source": [
    "df.head()"
   ]
  },
  {
   "cell_type": "markdown",
   "metadata": {},
   "source": [
    "### Odredi bodove i gol razliku klubova po utakmici: \"home_points\", \"away_points\", \"home_goal_diff\", \"away_goal_diff\""
   ]
  },
  {
   "cell_type": "code",
   "execution_count": 19,
   "metadata": {},
   "outputs": [],
   "source": [
    "df[\"home_points\"] = df[\"result\"].map({\"H\": 3, \"D\": 1, \"A\": 0})\n",
    "df[\"away_points\"] = df[\"result\"].map({\"H\": 0, \"D\": 1, \"A\": 3})"
   ]
  },
  {
   "cell_type": "code",
   "execution_count": 20,
   "metadata": {},
   "outputs": [],
   "source": [
    "df[\"home_goal_diff\"] = df[\"home_goals\"] - df[\"away_goals\"]\n",
    "df[\"away_goal_diff\"] = df[\"away_goals\"] - df[\"home_goals\"]"
   ]
  },
  {
   "cell_type": "code",
   "execution_count": 21,
   "metadata": {},
   "outputs": [
    {
     "data": {
      "text/html": [
       "<div>\n",
       "<style scoped>\n",
       "    .dataframe tbody tr th:only-of-type {\n",
       "        vertical-align: middle;\n",
       "    }\n",
       "\n",
       "    .dataframe tbody tr th {\n",
       "        vertical-align: top;\n",
       "    }\n",
       "\n",
       "    .dataframe thead th {\n",
       "        text-align: right;\n",
       "    }\n",
       "</style>\n",
       "<table border=\"1\" class=\"dataframe\">\n",
       "  <thead>\n",
       "    <tr style=\"text-align: right;\">\n",
       "      <th></th>\n",
       "      <th>home_team</th>\n",
       "      <th>away_team</th>\n",
       "      <th>home_goals</th>\n",
       "      <th>away_goals</th>\n",
       "      <th>result</th>\n",
       "      <th>season</th>\n",
       "      <th>home_points</th>\n",
       "      <th>away_points</th>\n",
       "      <th>home_goal_diff</th>\n",
       "      <th>away_goal_diff</th>\n",
       "    </tr>\n",
       "  </thead>\n",
       "  <tbody>\n",
       "    <tr>\n",
       "      <th>0</th>\n",
       "      <td>Sheffield United</td>\n",
       "      <td>Liverpool</td>\n",
       "      <td>1</td>\n",
       "      <td>1</td>\n",
       "      <td>D</td>\n",
       "      <td>2006-2007</td>\n",
       "      <td>1</td>\n",
       "      <td>1</td>\n",
       "      <td>0</td>\n",
       "      <td>0</td>\n",
       "    </tr>\n",
       "    <tr>\n",
       "      <th>1</th>\n",
       "      <td>Arsenal</td>\n",
       "      <td>Aston Villa</td>\n",
       "      <td>1</td>\n",
       "      <td>1</td>\n",
       "      <td>D</td>\n",
       "      <td>2006-2007</td>\n",
       "      <td>1</td>\n",
       "      <td>1</td>\n",
       "      <td>0</td>\n",
       "      <td>0</td>\n",
       "    </tr>\n",
       "    <tr>\n",
       "      <th>2</th>\n",
       "      <td>Everton</td>\n",
       "      <td>Watford</td>\n",
       "      <td>2</td>\n",
       "      <td>1</td>\n",
       "      <td>H</td>\n",
       "      <td>2006-2007</td>\n",
       "      <td>3</td>\n",
       "      <td>0</td>\n",
       "      <td>1</td>\n",
       "      <td>-1</td>\n",
       "    </tr>\n",
       "    <tr>\n",
       "      <th>3</th>\n",
       "      <td>Newcastle United</td>\n",
       "      <td>Wigan Athletic</td>\n",
       "      <td>2</td>\n",
       "      <td>1</td>\n",
       "      <td>H</td>\n",
       "      <td>2006-2007</td>\n",
       "      <td>3</td>\n",
       "      <td>0</td>\n",
       "      <td>1</td>\n",
       "      <td>-1</td>\n",
       "    </tr>\n",
       "    <tr>\n",
       "      <th>4</th>\n",
       "      <td>Portsmouth</td>\n",
       "      <td>Blackburn Rovers</td>\n",
       "      <td>3</td>\n",
       "      <td>0</td>\n",
       "      <td>H</td>\n",
       "      <td>2006-2007</td>\n",
       "      <td>3</td>\n",
       "      <td>0</td>\n",
       "      <td>3</td>\n",
       "      <td>-3</td>\n",
       "    </tr>\n",
       "  </tbody>\n",
       "</table>\n",
       "</div>"
      ],
      "text/plain": [
       "          home_team         away_team  home_goals  away_goals result  \\\n",
       "0  Sheffield United         Liverpool           1           1      D   \n",
       "1           Arsenal       Aston Villa           1           1      D   \n",
       "2           Everton           Watford           2           1      H   \n",
       "3  Newcastle United    Wigan Athletic           2           1      H   \n",
       "4        Portsmouth  Blackburn Rovers           3           0      H   \n",
       "\n",
       "      season  home_points  away_points  home_goal_diff  away_goal_diff  \n",
       "0  2006-2007            1            1               0               0  \n",
       "1  2006-2007            1            1               0               0  \n",
       "2  2006-2007            3            0               1              -1  \n",
       "3  2006-2007            3            0               1              -1  \n",
       "4  2006-2007            3            0               3              -3  "
      ]
     },
     "execution_count": 21,
     "metadata": {},
     "output_type": "execute_result"
    }
   ],
   "source": [
    "df.head()"
   ]
  },
  {
   "cell_type": "markdown",
   "metadata": {},
   "source": [
    "### Podijeli dataframe po sezonama"
   ]
  },
  {
   "cell_type": "code",
   "execution_count": 22,
   "metadata": {},
   "outputs": [
    {
     "data": {
      "text/plain": [
       "array(['2006-2007', '2007-2008', '2008-2009', '2009-2010', '2010-2011',\n",
       "       '2011-2012', '2012-2013', '2013-2014', '2014-2015', '2015-2016',\n",
       "       '2016-2017', '2017-2018'], dtype=object)"
      ]
     },
     "execution_count": 22,
     "metadata": {},
     "output_type": "execute_result"
    }
   ],
   "source": [
    "unique_seasons = df[\"season\"].unique()\n",
    "unique_seasons"
   ]
  },
  {
   "cell_type": "code",
   "execution_count": 23,
   "metadata": {},
   "outputs": [
    {
     "name": "stdout",
     "output_type": "stream",
     "text": [
      "dict_keys(['2006-2007', '2007-2008', '2008-2009', '2009-2010', '2010-2011', '2011-2012', '2012-2013', '2013-2014', '2014-2015', '2015-2016', '2016-2017', '2017-2018'])\n",
      "Number of seasons: 12\n"
     ]
    }
   ],
   "source": [
    "season_dict = {}\n",
    "\n",
    "for season in unique_seasons:\n",
    "    season_df = df[df[\"season\"] == season]\n",
    "    season_dict[season] = season_df\n",
    "\n",
    "print(season_dict.keys())\n",
    "print(\"Number of seasons: \" + str(len(season_dict.keys())))"
   ]
  },
  {
   "cell_type": "markdown",
   "metadata": {},
   "source": [
    "### Stvori novi dataframe s kolima - varijable \"fixture_id\", \"team\", \"points\", \"goal_diff\""
   ]
  },
  {
   "cell_type": "code",
   "execution_count": 24,
   "metadata": {},
   "outputs": [],
   "source": [
    "colors = [\"#38B09D\", \"#F28E2B\", \"#2E77AE\", \"#E94877\", \"#4C566E\",\n",
    "          \"#5E81AC\", \"#D08770\", \"#BF616A\", \"#A3BE8C\", \"#B48EAD\",\n",
    "          \"#8FBCBB\", \"#EBCB8B\", \"#88C0D0\", \"#D8DEE9\", \"#A3BE8C\",\n",
    "          \"#BF616A\", \"#81A1C1\", \"#ECEFF4\", \"#D8DEE9\", \"#A3BE8C\"]"
   ]
  },
  {
   "cell_type": "code",
   "execution_count": 25,
   "metadata": {},
   "outputs": [],
   "source": [
    "for season in season_dict.keys():\n",
    "    df = pd.read_csv('../data/task3/points_season_'+season+'.csv')\n",
    "    teams = np.array(df.team)\n",
    "    \n",
    "    result = []\n",
    "    for club, color in zip(teams, colors):\n",
    "        result.append({'team': club, 'color': color})\n",
    "\n",
    "    a = np.array(season_dict[season]['away_team'])\n",
    "    h = np.array(season_dict[season]['home_team'])\n",
    "    h_p = np.array(season_dict[season]['home_points'])\n",
    "    a_p = np.array(season_dict[season]['away_points'])\n",
    "\n",
    "    for i in range(len(h)):\n",
    "        team_h = h[i]\n",
    "        team_a = a[i]\n",
    "\n",
    "        for team_dict in result:\n",
    "            if team_dict['team'] == team_h:\n",
    "                if 'positions' in team_dict:\n",
    "                    dictio = {}\n",
    "                    current_points = team_dict['positions'][len(team_dict['positions'])-1]\n",
    "                    dictio['points'] = str(int(current_points['points']) + h_p[i])\n",
    "                    team_dict['positions'].append(dictio)\n",
    "                else:\n",
    "                    team_dict['positions'] = []\n",
    "                    dictio = {}\n",
    "                    dictio['points'] = str(h_p[i])\n",
    "                    team_dict['positions'].append(dictio)\n",
    "            \n",
    "            if team_dict['team'] == team_a:\n",
    "                if 'positions' in team_dict:\n",
    "                    dictio = {}\n",
    "                    current_points = team_dict['positions'][len(team_dict['positions'])-1]\n",
    "                    dictio['points'] = str(int(current_points['points']) + a_p[i])\n",
    "                    team_dict['positions'].append(dictio)\n",
    "                else:\n",
    "                    team_dict['positions'] = []\n",
    "                    dictio = {}\n",
    "                    dictio['points'] = str(a_p[i])\n",
    "                    team_dict['positions'].append(dictio)\n",
    "\n",
    "    # Save the list to a JSON file\n",
    "    with open('../data/task5/point_per_game_' + season + '.json', 'w') as json_file:\n",
    "        json.dump(result, json_file)"
   ]
  },
  {
   "cell_type": "markdown",
   "metadata": {},
   "source": [
    "DONE"
   ]
  },
  {
   "cell_type": "code",
   "execution_count": 10,
   "metadata": {},
   "outputs": [],
   "source": [
    "\"\"\"\n",
    "season_with_fixtures = dict()\n",
    "\n",
    "for season, season_df in season_dict.items():\n",
    "    season_df = season_df.reset_index(drop=True)\n",
    "    fixture_data = []\n",
    "    fixture_id = 1\n",
    "    for idx, row in season_df.iterrows():\n",
    "        fixture_data.append({\n",
    "            \"fixture_id\": fixture_id,\n",
    "            \"team\": row[\"home_team\"],\n",
    "            \"points\": row[\"home_points\"],\n",
    "            \"goal_diff\": row[\"home_goal_diff\"]\n",
    "        })\n",
    "\n",
    "        fixture_data.append({\n",
    "            \"fixture_id\": fixture_id,\n",
    "            \"team\": row[\"away_team\"],\n",
    "            \"points\": row[\"away_points\"],\n",
    "            \"goal_diff\": row[\"away_goal_diff\"]\n",
    "        })\n",
    "\n",
    "        if idx % 10 == 9:\n",
    "            fixture_id += 1\n",
    "\n",
    "    season_with_fixtures[season] = pd.DataFrame(fixture_data)\n",
    "\"\"\""
   ]
  },
  {
   "cell_type": "code",
   "execution_count": 26,
   "metadata": {},
   "outputs": [
    {
     "data": {
      "text/plain": [
       "'\\nprint(season_with_fixtures.keys())\\nprint(\"Number of seasons: \" + str(len(season_with_fixtures.keys())))\\n'"
      ]
     },
     "execution_count": 26,
     "metadata": {},
     "output_type": "execute_result"
    }
   ],
   "source": [
    "\"\"\"\n",
    "print(season_with_fixtures.keys())\n",
    "print(\"Number of seasons: \" + str(len(season_with_fixtures.keys())))\n",
    "\"\"\""
   ]
  },
  {
   "cell_type": "code",
   "execution_count": 27,
   "metadata": {},
   "outputs": [
    {
     "data": {
      "text/plain": [
       "'\\nseason_with_fixtures[\"2006-2007\"].head(n=30)\\n'"
      ]
     },
     "execution_count": 27,
     "metadata": {},
     "output_type": "execute_result"
    }
   ],
   "source": [
    "\"\"\"\n",
    "season_with_fixtures[\"2006-2007\"].head(n=30)\n",
    "\"\"\""
   ]
  },
  {
   "cell_type": "markdown",
   "metadata": {},
   "source": [
    "### Izračunaj rang po kolu"
   ]
  },
  {
   "cell_type": "markdown",
   "metadata": {},
   "source": [
    "Sample"
   ]
  },
  {
   "cell_type": "code",
   "execution_count": 13,
   "metadata": {},
   "outputs": [],
   "source": [
    "#sample_df = season_with_fixtures[\"2006-2007\"]"
   ]
  },
  {
   "cell_type": "code",
   "execution_count": 14,
   "metadata": {},
   "outputs": [],
   "source": [
    "#sample_df[\"team\"] = sample_df.groupby(\"fixture_id\")[\"team\"].transform(lambda x: sorted(x))"
   ]
  },
  {
   "cell_type": "code",
   "execution_count": 28,
   "metadata": {},
   "outputs": [],
   "source": [
    "#sample_df[\"cumulative_points\"] = sample_df.groupby(\"team\")[\"points\"].cumsum()\n",
    "#sample_df.head(n=60)"
   ]
  },
  {
   "cell_type": "markdown",
   "metadata": {},
   "source": [
    "### Spremi po sezoni"
   ]
  },
  {
   "cell_type": "code",
   "execution_count": null,
   "metadata": {},
   "outputs": [],
   "source": [
    "\"\"\"\n",
    "for season, season_df in season_with_fixtures.items():\n",
    "    season_df[\"team\"] = season_df.groupby(\"fixture_id\")[\"team\"].transform(lambda x: sorted(x))\n",
    "    season_df[\"cumulative_points\"] = season_df.groupby(\"team\")[\"points\"].cumsum()\n",
    "    season_csv_filename = f'season_{season}.csv'\n",
    "    season_df.to_csv(\"../data/task5/\" + season_csv_filename, index=False)\n",
    "    print(f\"Saved {season_csv_filename}\")\n",
    "\"\"\""
   ]
  }
 ],
 "metadata": {
  "kernelspec": {
   "display_name": "Python 3",
   "language": "python",
   "name": "python3"
  },
  "language_info": {
   "codemirror_mode": {
    "name": "ipython",
    "version": 3
   },
   "file_extension": ".py",
   "mimetype": "text/x-python",
   "name": "python",
   "nbconvert_exporter": "python",
   "pygments_lexer": "ipython3",
   "version": "3.10.5"
  }
 },
 "nbformat": 4,
 "nbformat_minor": 2
}
